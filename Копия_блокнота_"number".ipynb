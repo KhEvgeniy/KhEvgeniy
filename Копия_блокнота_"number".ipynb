{
  "nbformat": 4,
  "nbformat_minor": 0,
  "metadata": {
    "colab": {
      "name": "Копия блокнота \"number\"",
      "provenance": [],
      "collapsed_sections": [],
      "authorship_tag": "ABX9TyPdFrSNOZ8dd49JqeaInaGP",
      "include_colab_link": true
    },
    "kernelspec": {
      "name": "python3",
      "display_name": "Python 3"
    },
    "language_info": {
      "name": "python"
    }
  },
  "cells": [
    {
      "cell_type": "markdown",
      "metadata": {
        "id": "view-in-github",
        "colab_type": "text"
      },
      "source": [
        "<a href=\"https://colab.research.google.com/github/KhEvgeniy/KhEvgeniy/blob/main/%D0%9A%D0%BE%D0%BF%D0%B8%D1%8F_%D0%B1%D0%BB%D0%BE%D0%BA%D0%BD%D0%BE%D1%82%D0%B0_%22number%22.ipynb\" target=\"_parent\"><img src=\"https://colab.research.google.com/assets/colab-badge.svg\" alt=\"Open In Colab\"/></a>"
      ]
    },
    {
      "cell_type": "code",
      "execution_count": null,
      "metadata": {
        "id": "ulcOfaVVokCq"
      },
      "outputs": [],
      "source": [
        "import pandas as pd\n",
        "import numpy as np\n",
        "import scipy\n",
        "from sklearn.model_selection import StratifiedKFold\n",
        "\n",
        "from sklearn.model_selection import train_test_split\n",
        "from sklearn.preprocessing import LabelEncoder\n",
        "from sklearn.metrics import accuracy_score\n",
        "\n",
        "from tensorflow.keras import Sequential\n",
        "from tensorflow.keras.layers import Dense, Dropout\n",
        "from tensorflow.keras.datasets import mnist\n",
        "from tensorflow.keras import utils\n",
        "#from tensorflow.python.keras.optimizers import Adam\n",
        "#from tensorflow.python.keras.optimizers import RMSprop\n",
        "from tensorflow.keras.preprocessing import image\n",
        "\n",
        "from PIL import Image\n",
        "\n",
        "import matplotlib.pyplot as plt\n",
        "\n",
        "%matplotlib inline"
      ]
    },
    {
      "cell_type": "code",
      "source": [
        "(x_train_org, y_train_org), (x_test_org, y_test_org) = mnist.load_data()"
      ],
      "metadata": {
        "colab": {
          "base_uri": "https://localhost:8080/"
        },
        "id": "ozXj5xWJsX8d",
        "outputId": "8bcf6f01-7a82-485f-b357-c3f8e88851cb"
      },
      "execution_count": null,
      "outputs": [
        {
          "output_type": "stream",
          "name": "stdout",
          "text": [
            "Downloading data from https://storage.googleapis.com/tensorflow/tf-keras-datasets/mnist.npz\n",
            "11493376/11490434 [==============================] - 0s 0us/step\n",
            "11501568/11490434 [==============================] - 0s 0us/step\n"
          ]
        }
      ]
    },
    {
      "cell_type": "code",
      "source": [
        "x_train =x_train_org.reshape(60000, 784)\n",
        "x_test = x_test_org.reshape(10000, 784)"
      ],
      "metadata": {
        "id": "59U_1qc4ssoO"
      },
      "execution_count": null,
      "outputs": []
    },
    {
      "cell_type": "code",
      "source": [
        "x_train = x_train.astype('float32')\n",
        "x_train = x_train / 255\n",
        "\n",
        "x_test = x_test.astype('float32')\n",
        "x_test = x_test / 255"
      ],
      "metadata": {
        "id": "8YPWOz8RtTWr"
      },
      "execution_count": null,
      "outputs": []
    },
    {
      "cell_type": "code",
      "source": [
        "y_train = utils.to_categorical(y_train_org, 10)\n",
        "y_test = utils.to_categorical(y_test_org, 10)"
      ],
      "metadata": {
        "id": "_9QjxzuXtqt5"
      },
      "execution_count": null,
      "outputs": []
    },
    {
      "cell_type": "code",
      "source": [
        "from sklearn import metrics\n",
        "from tensorflow.python.keras import optimizer_v1\n",
        "model = Sequential()\n",
        "model.add(Dense(128, input_dim = 784, activation='relu'))\n",
        "model.add(Dropout(0.2))\n",
        "model.add(Dense(128, activation = 'relu'))\n",
        "model.add(Dropout(0.2))\n",
        "model.add(Dense(10, activation = 'softmax'))\n",
        "\n",
        "model.compile(loss='categorical_crossentropy', optimizer = 'adam', metrics = ['accuracy'])\n",
        "\n",
        "n = 30000\n",
        "\n",
        "history = model.fit(x_train[:n],\n",
        "                    y_train[:n],\n",
        "                    batch_size = 250,\n",
        "                    epochs = 30,\n",
        "                    validation_data = (x_train[n:], y_train[n:]), verbose = 1)\n",
        "\n",
        "plt.plot(history.history['accuracy'],\n",
        "         label = 'Точность train')\n",
        "plt.plot(history.history['val_accuracy'],\n",
        "         label = 'Точность test')\n",
        "plt.xlabel('эпоха')\n",
        "plt.ylabel('точность')\n",
        "plt.legend()\n",
        "plt.show()"
      ],
      "metadata": {
        "colab": {
          "base_uri": "https://localhost:8080/",
          "height": 1000
        },
        "id": "zvOA6NpHuA2L",
        "outputId": "c5e4cacb-2af5-484b-c804-ab7ae5f250f8"
      },
      "execution_count": null,
      "outputs": [
        {
          "output_type": "stream",
          "name": "stdout",
          "text": [
            "Epoch 1/30\n",
            "120/120 [==============================] - 2s 12ms/step - loss: 0.7011 - accuracy: 0.7918 - val_loss: 0.2754 - val_accuracy: 0.9197\n",
            "Epoch 2/30\n",
            "120/120 [==============================] - 2s 13ms/step - loss: 0.2827 - accuracy: 0.9162 - val_loss: 0.2021 - val_accuracy: 0.9392\n",
            "Epoch 3/30\n",
            "120/120 [==============================] - 1s 11ms/step - loss: 0.2123 - accuracy: 0.9374 - val_loss: 0.1655 - val_accuracy: 0.9515\n",
            "Epoch 4/30\n",
            "120/120 [==============================] - 1s 11ms/step - loss: 0.1722 - accuracy: 0.9501 - val_loss: 0.1484 - val_accuracy: 0.9565\n",
            "Epoch 5/30\n",
            "120/120 [==============================] - 2s 13ms/step - loss: 0.1458 - accuracy: 0.9565 - val_loss: 0.1350 - val_accuracy: 0.9601\n",
            "Epoch 6/30\n",
            "120/120 [==============================] - 2s 13ms/step - loss: 0.1228 - accuracy: 0.9626 - val_loss: 0.1262 - val_accuracy: 0.9633\n",
            "Epoch 7/30\n",
            "120/120 [==============================] - 1s 11ms/step - loss: 0.1064 - accuracy: 0.9680 - val_loss: 0.1189 - val_accuracy: 0.9646\n",
            "Epoch 8/30\n",
            "120/120 [==============================] - 2s 13ms/step - loss: 0.0944 - accuracy: 0.9716 - val_loss: 0.1152 - val_accuracy: 0.9664\n",
            "Epoch 9/30\n",
            "120/120 [==============================] - 1s 11ms/step - loss: 0.0844 - accuracy: 0.9727 - val_loss: 0.1122 - val_accuracy: 0.9673\n",
            "Epoch 10/30\n",
            "120/120 [==============================] - 2s 13ms/step - loss: 0.0771 - accuracy: 0.9758 - val_loss: 0.1090 - val_accuracy: 0.9685\n",
            "Epoch 11/30\n",
            "120/120 [==============================] - 2s 13ms/step - loss: 0.0691 - accuracy: 0.9789 - val_loss: 0.1062 - val_accuracy: 0.9688\n",
            "Epoch 12/30\n",
            "120/120 [==============================] - 1s 11ms/step - loss: 0.0621 - accuracy: 0.9798 - val_loss: 0.1108 - val_accuracy: 0.9677\n",
            "Epoch 13/30\n",
            "120/120 [==============================] - 2s 13ms/step - loss: 0.0598 - accuracy: 0.9805 - val_loss: 0.1072 - val_accuracy: 0.9703\n",
            "Epoch 14/30\n",
            "120/120 [==============================] - 2s 14ms/step - loss: 0.0573 - accuracy: 0.9811 - val_loss: 0.1092 - val_accuracy: 0.9696\n",
            "Epoch 15/30\n",
            "120/120 [==============================] - 1s 11ms/step - loss: 0.0485 - accuracy: 0.9844 - val_loss: 0.1096 - val_accuracy: 0.9698\n",
            "Epoch 16/30\n",
            "120/120 [==============================] - 1s 11ms/step - loss: 0.0477 - accuracy: 0.9838 - val_loss: 0.1123 - val_accuracy: 0.9705\n",
            "Epoch 17/30\n",
            "120/120 [==============================] - 2s 13ms/step - loss: 0.0419 - accuracy: 0.9862 - val_loss: 0.1027 - val_accuracy: 0.9718\n",
            "Epoch 18/30\n",
            "120/120 [==============================] - 2s 13ms/step - loss: 0.0401 - accuracy: 0.9871 - val_loss: 0.1026 - val_accuracy: 0.9718\n",
            "Epoch 19/30\n",
            "120/120 [==============================] - 2s 13ms/step - loss: 0.0384 - accuracy: 0.9876 - val_loss: 0.1038 - val_accuracy: 0.9715\n",
            "Epoch 20/30\n",
            "120/120 [==============================] - 1s 11ms/step - loss: 0.0365 - accuracy: 0.9882 - val_loss: 0.1150 - val_accuracy: 0.9707\n",
            "Epoch 21/30\n",
            "120/120 [==============================] - 2s 13ms/step - loss: 0.0360 - accuracy: 0.9879 - val_loss: 0.1091 - val_accuracy: 0.9717\n",
            "Epoch 22/30\n",
            "120/120 [==============================] - 1s 11ms/step - loss: 0.0352 - accuracy: 0.9885 - val_loss: 0.1082 - val_accuracy: 0.9721\n",
            "Epoch 23/30\n",
            "120/120 [==============================] - 2s 13ms/step - loss: 0.0311 - accuracy: 0.9901 - val_loss: 0.1088 - val_accuracy: 0.9719\n",
            "Epoch 24/30\n",
            "120/120 [==============================] - 1s 11ms/step - loss: 0.0279 - accuracy: 0.9907 - val_loss: 0.1133 - val_accuracy: 0.9729\n",
            "Epoch 25/30\n",
            "120/120 [==============================] - 2s 13ms/step - loss: 0.0294 - accuracy: 0.9903 - val_loss: 0.1165 - val_accuracy: 0.9724\n",
            "Epoch 26/30\n",
            "120/120 [==============================] - 1s 11ms/step - loss: 0.0265 - accuracy: 0.9912 - val_loss: 0.1133 - val_accuracy: 0.9726\n",
            "Epoch 27/30\n",
            "120/120 [==============================] - 1s 11ms/step - loss: 0.0281 - accuracy: 0.9906 - val_loss: 0.1124 - val_accuracy: 0.9726\n",
            "Epoch 28/30\n",
            "120/120 [==============================] - 1s 11ms/step - loss: 0.0237 - accuracy: 0.9919 - val_loss: 0.1154 - val_accuracy: 0.9728\n",
            "Epoch 29/30\n",
            "120/120 [==============================] - 1s 12ms/step - loss: 0.0240 - accuracy: 0.9928 - val_loss: 0.1159 - val_accuracy: 0.9725\n",
            "Epoch 30/30\n",
            "120/120 [==============================] - 2s 15ms/step - loss: 0.0245 - accuracy: 0.9913 - val_loss: 0.1148 - val_accuracy: 0.9728\n"
          ]
        },
        {
          "output_type": "display_data",
          "data": {
            "text/plain": [
              "<Figure size 432x288 with 1 Axes>"
            ],
            "image/png": "[encoded data removed]"
          },
          "metadata": {
            "needs_background": "light"
          }
        }
      ]
    },
    {
      "cell_type": "code",
      "source": [
        "model.summary()"
      ],
      "metadata": {
        "colab": {
          "base_uri": "https://localhost:8080/"
        },
        "id": "QWeVRARJ5F7s",
        "outputId": "a28cab69-c408-460c-a1eb-a091ce6ce1a2"
      },
      "execution_count": null,
      "outputs": [
        {
          "output_type": "stream",
          "name": "stdout",
          "text": [
            "Model: \"sequential_2\"\n",
            "_________________________________________________________________\n",
            " Layer (type)                Output Shape              Param #   \n",
            "=================================================================\n",
            " dense_3 (Dense)             (None, 128)               100480    \n",
            "                                                                 \n",
            " dropout_2 (Dropout)         (None, 128)               0         \n",
            "                                                                 \n",
            " dense_4 (Dense)             (None, 128)               16512     \n",
            "                                                                 \n",
            " dropout_3 (Dropout)         (None, 128)               0         \n",
            "                                                                 \n",
            " dense_5 (Dense)             (None, 10)                1290      \n",
            "                                                                 \n",
            "=================================================================\n",
            "Total params: 118,282\n",
            "Trainable params: 118,282\n",
            "Non-trainable params: 0\n",
            "_________________________________________________________________\n"
          ]
        }
      ]
    }
  ]
}